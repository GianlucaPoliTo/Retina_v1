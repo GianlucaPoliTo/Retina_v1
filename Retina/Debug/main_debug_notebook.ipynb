{
 "cells": [
  {
   "cell_type": "code",
   "execution_count": null,
   "metadata": {},
   "outputs": [],
   "source": [
    "import pandas as pd\n",
    "import numpy as np\n",
    "from Pcap2Json_debug import pcap_to_json, pcap_to_port\n",
    "from pathlib import Path\n",
    "import os"
   ]
  },
  {
   "cell_type": "code",
   "execution_count": null,
   "metadata": {},
   "outputs": [],
   "source": [
    "home = str(Path.home())\n",
    "source_pcap = os.path.join(home, \"Pcaps\", \"Gianluca_wa_500KB.pcapng\")\n",
    "source_pcap"
   ]
  },
  {
   "cell_type": "code",
   "execution_count": null,
   "metadata": {},
   "outputs": [],
   "source": [
    "used_port = pcap_to_port(source_pcap)\n",
    "info = (source_pcap, used_port)"
   ]
  },
  {
   "cell_type": "code",
   "execution_count": null,
   "metadata": {},
   "outputs": [],
   "source": [
    "dict_flow_data, df_unique_flow, unique_flow, \\\n",
    "l_ipv6, l_turn, l_stun, l_dns, dns_domain_names, l_mdns,\\\n",
    "l_dtls, l_rtcp, l_tcp, tls_domain_names, l_udp_undecoded_protocol, l_other_udp, \\\n",
    "l_rtp_event, l_rtp_other, l_rtp, l_other, counter = \\\n",
    "        pcap_to_json(info)"
   ]
  }
 ],
 "metadata": {
  "kernelspec": {
   "display_name": "Python 3",
   "language": "python",
   "name": "python3"
  },
  "language_info": {
   "codemirror_mode": {
    "name": "ipython",
    "version": 3
   },
   "file_extension": ".py",
   "mimetype": "text/x-python",
   "name": "python",
   "nbconvert_exporter": "python",
   "pygments_lexer": "ipython3",
   "version": "3.7.5"
  }
 },
 "nbformat": 4,
 "nbformat_minor": 4
}
